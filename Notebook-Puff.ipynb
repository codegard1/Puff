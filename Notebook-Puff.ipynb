{
    "metadata": {
        "kernelspec": {
            "name": "SQL",
            "display_name": "SQL",
            "language": "sql"
        },
        "language_info": {
            "name": "sql",
            "version": ""
        }
    },
    "nbformat_minor": 2,
    "nbformat": 4,
    "cells": [
        {
            "cell_type": "markdown",
            "source": [
                "# First of all let's select a small sample of data from [Puff]"
            ],
            "metadata": {
                "azdata_cell_guid": "88cf8571-2f13-47cf-ac88-8f51c66064ab"
            }
        },
        {
            "cell_type": "code",
            "source": [
                "USE Bills;\r\n",
                "GO\r\n",
                "SELECT\r\n",
                "    TOP 10\r\n",
                "    [Puff],\r\n",
                "    [Date_Time],\r\n",
                "    [Time__s_]\r\n",
                "FROM dbo.[Puff]\r\n",
                "ORDER BY [Puff] DESC;"
            ],
            "metadata": {
                "azdata_cell_guid": "4bfdc137-f335-4037-a506-ae5a03bc01d6",
                "tags": []
            },
            "outputs": [],
            "execution_count": 1
        },
        {
            "cell_type": "markdown",
            "source": [
                "## This is a an example of how to use `CURSOR`\r\n",
                "\r\n",
                "This example just prints the sample data to the log.  \r\n",
                "\r\n",
                "We can apply this to the goal of creating a column of intervals (in seconds) between each row's start times. \r\n",
                "\r\n",
                "The next step is to write an algorithm for determining the interval for a pair of rows that will go inside the `WHILE` block."
            ],
            "metadata": {
                "azdata_cell_guid": "7987b858-ebc8-4e02-b888-e73ae794eab9"
            }
        },
        {
            "cell_type": "code",
            "source": [
                "USE Bills;\r\n",
                "GO\r\n",
                "-- VARIABLES\r\n",
                "DECLARE @current_Puff INT,\r\n",
                "    @current_date_time DATETIME,\r\n",
                "    @current_time_s FLOAT;\r\n",
                "\r\n",
                "-- DECLARE the cursor as a SELECT statement\r\n",
                "DECLARE cursor_Puff CURSOR\r\n",
                "FOR SELECT\r\n",
                "    TOP 10\r\n",
                "    [Puff],\r\n",
                "    [Date_Time],\r\n",
                "    [Time__s_]\r\n",
                "FROM dbo.[Puff]\r\n",
                "ORDER BY [Puff] DESC;\r\n",
                "\r\n",
                "\r\n",
                "-- OPEN the cursor for reading\r\n",
                "OPEN cursor_Puff;\r\n",
                "\r\n",
                "-- (Try to) get the first result from the cursor\r\n",
                "FETCH NEXT FROM cursor_Puff \r\n",
                "    INTO @current_Puff, @current_date_time, @current_time_s;\r\n",
                "\r\n",
                "-- Loop through the cursor results\r\n",
                "-- @@FETCH_STATUS is 0 when the previous FETCH returned something\r\n",
                "WHILE @@FETCH_STATUS = 0\r\n",
                "    BEGIN\r\n",
                "        PRINT CAST(@current_Puff AS varchar);\r\n",
                "        PRINT CAST(@current_date_time AS varchar);\r\n",
                "        PRINT CAST(@current_time_s AS varchar);\r\n",
                "\r\n",
                "        FETCH NEXT FROM cursor_Puff \r\n",
                "            INTO @current_Puff, @current_date_time, @current_time_s;\r\n",
                "    END;\r\n",
                "\r\n",
                "-- CLOSE and DEALLOCATE the cursor to clean up\r\n",
                "CLOSE cursor_Puff;\r\n",
                "DEALLOCATE cursor_Puff;"
            ],
            "metadata": {
                "azdata_cell_guid": "df62c4a3-606e-4623-aa65-4e0eec5fccee",
                "tags": []
            },
            "outputs": [],
            "execution_count": 1
        },
        {
            "cell_type": "markdown",
            "source": [
                "# How to calculate the interval\r\n",
                "\r\n",
                "_The interval between two puffs is the difference between the start time of the second puff and the end time of the first puff._\r\n",
                "\r\n",
                "Because the end time is not stored, we must calculate it before we can determine the interval. \r\n",
                "\r\n",
                "_The end time of a puff is the start time plus the duration_\r\n",
                "\r\n",
                "In terms of the sample data, we can write pseudo-code that will return the end time:\r\n",
                "\r\n",
                "```\r\n",
                "let end_time = start_time1 + duration\r\n",
                "\r\n",
                "let interval = end_time - start_time0\r\n",
                "```"
            ],
            "metadata": {
                "azdata_cell_guid": "19aefeb2-e1d7-4421-81ea-27967511df4c"
            }
        },
        {
            "cell_type": "code",
            "source": [
                "-- TO DO: ADAPT THIS TO WORK WITH PUFFS\r\n",
                "\r\n",
                "\r\n",
                "\r\n",
                " SET @current_balance = SUM(@previous_balance + @current_amount)\r\n",
                "\r\n",
                "    PRINT CAST(@current_id AS varchar) + '    ' + CAST(@current_amount AS varchar) + '    ' + CAST(@current_balance AS varchar);\r\n",
                "\r\n",
                "    -- store the current values for the next iteration\r\n",
                "    SET @previous_amount = @current_amount\r\n",
                "    SET @previous_balance = @current_balance\r\n",
                "\r\n",
                "    UPDATE dbo.[Chase6445_Staging] \r\n",
                "        SET [Balance1] = @current_balance\r\n",
                "        WHERE [id] = @current_id\r\n",
                "\r\n",
                "    -- Get the values for the next iteration\r\n",
                "    FETCH NEXT FROM cursor_Chase INTO \r\n",
                "            @current_id,\r\n",
                "            @current_amount"
            ],
            "metadata": {
                "azdata_cell_guid": "5b3153ba-7120-47a7-887f-26a68bab0a5d"
            },
            "outputs": [],
            "execution_count": 0
        }
    ]
}